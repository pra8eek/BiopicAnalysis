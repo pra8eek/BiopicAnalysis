{
 "cells": [
  {
   "cell_type": "code",
   "execution_count": 16,
   "metadata": {},
   "outputs": [],
   "source": [
    "import json\n",
    "import xmltodict\n",
    "import datetime\n",
    "import requests\n",
    "import time\n",
    "import textstat\n",
    "import matplotlib.pyplot as plt \n",
    "import mwparserfromhell"
   ]
  },
  {
   "cell_type": "code",
   "execution_count": 7,
   "metadata": {},
   "outputs": [],
   "source": [
    "def getEachArticle() :\n",
    "    \n",
    "    with open(\"MovieDetails.json\",'r') as f :\n",
    "        movieDetails = json.loads(f.read())\n",
    "    \n",
    "    movieNames = [x for x in movieDetails.keys()]\n",
    "    \n",
    "    with open(\"releaseDates.json\",'r') as f :\n",
    "        dates = json.loads(f.read())\n",
    "    \n",
    "    for movie in movieNames :\n",
    "        name, url = movie.split('||')\n",
    "        date = dates[name] if name in dates else \"--\"\n",
    "        print(name, date)\n",
    "        if date != \"--\" :\n",
    "            AnalyzeValidEdits(name, date) #vaild means before and after 60 days\n",
    "        break"
   ]
  },
  {
   "cell_type": "code",
   "execution_count": 42,
   "metadata": {},
   "outputs": [],
   "source": [
    "def AnalyzeValidEdits(name, date):\n",
    "    article = \"./wiki/\" + name.replace(' ','_') + \".xml\"\n",
    "    di = {}\n",
    "\n",
    "    with open(article, 'r') as f :\n",
    "        di = xmltodict.parse(f.read())\n",
    "    \n",
    "    revisions = [x for x in di['mediawiki']['page']['revision']] \n",
    "    revs = [] #Batch of 50s for ORES Analysis\n",
    "    smog_index = []\n",
    "    \n",
    "    for i in range(len(revisions)) :\n",
    "        diff = dateDifference(date ,revisions[i]['timestamp'].split('T')[0])\n",
    "        if diff > 30 :\n",
    "            continue\n",
    "#         print(revisions[i]['timestamp'].split('T')[0], revisions[i]['id'], diff, len(revs))\n",
    "        metrics = getReadabilityMetrics(revisions[i]['text']['#text'])\n",
    "        counts = getCounts(revisions[i]['text']['#text'])\n",
    "        smog_index.append(metrics['smog_index'])\n",
    "        revs.append(revisions[i]['id'])\n",
    "        \n",
    "        if len(revs) >= 50 :\n",
    "            revids = str(revs).replace(', ','|')[1:-1].replace(\"'\",\"\")\n",
    "            revs = []\n",
    "#             getORES(revids)\n",
    "        if diff <= -30 :\n",
    "#             getORES(revids)\n",
    "            break\n",
    "\n",
    "    plt.plot(smog_index) \n",
    "    plt.show()"
   ]
  },
  {
   "cell_type": "code",
   "execution_count": 43,
   "metadata": {},
   "outputs": [],
   "source": [
    "def dateDifference(APIDate, RevisionDate) :\n",
    "    converter = {\"Jan\":'1', \"Feb\":'2', \"Mar\":'3', \"Apr\":'4', \n",
    "            \"May\":'5', \"Jun\":'6', \"Jul\":'7', \"Aug\":'8',\n",
    "            \"Sep\":'9', \"Oct\":'10', \"Nov\":'11', \"Dec\":'12'}\n",
    "    date = APIDate.split()\n",
    "    date[1] = date[1].replace(date[1], converter[date[1]])\n",
    "    date = list(map(int, date[::-1]))\n",
    "    x = datetime.datetime(date[0], date[1], date[2])\n",
    "    date = RevisionDate\n",
    "    date = list(map(int, date.split('-')))\n",
    "    y = datetime.datetime(date[0], date[1], date[2])\n",
    "    return (x-y).days"
   ]
  },
  {
   "cell_type": "code",
   "execution_count": 44,
   "metadata": {},
   "outputs": [],
   "source": [
    "def getORES(revid):\n",
    "    url = \"https://ores.wikimedia.org/v3/scores/enwiki/?revids=\" + str(revid)\n",
    "    print(url)\n",
    "    page = requests.get(url)\n",
    "    di = json.loads(page.text)"
   ]
  },
  {
   "cell_type": "code",
   "execution_count": 45,
   "metadata": {},
   "outputs": [],
   "source": [
    "def getReadabilityMetrics(test_data) :\n",
    "    metric = {\"flesch_reading_ease\" : textstat.flesch_reading_ease(test_data),\n",
    "                \"smog_index\" : textstat.smog_index(test_data),\n",
    "                \"flesch_kincaid_grade\" : textstat.flesch_kincaid_grade(test_data),\n",
    "                \"coleman_liau_index\" : textstat.coleman_liau_index(test_data),\n",
    "                \"automated_readability_index\" : textstat.automated_readability_index(test_data),\n",
    "                \"dale_chall_readability_score\" : textstat.dale_chall_readability_score(test_data),\n",
    "                \"difficult_words\" : textstat.difficult_words(test_data),\n",
    "                \"linsear_write_formula\" : textstat.linsear_write_formula(test_data),\n",
    "                \"gunning_fog\" : textstat.gunning_fog(test_data),\n",
    "                \"text_standard\" : textstat.text_standard(test_data)}\n",
    "    return metric"
   ]
  },
  {
   "cell_type": "code",
   "execution_count": 46,
   "metadata": {},
   "outputs": [],
   "source": [
    "def getCounts(text) :\n",
    "    code = mwparserfromhell.parse(text)\n",
    "    di = { \"wikilinks\" : len(code.filter_wikilinks()),\n",
    "          \"references\" : text.count(\"<ref>\"),\n",
    "          \"words\" : text.count(\" \")}\n",
    "    return di"
   ]
  },
  {
   "cell_type": "code",
   "execution_count": 47,
   "metadata": {},
   "outputs": [
    {
     "name": "stdout",
     "output_type": "stream",
     "text": [
      "127 Hours 28 Jan 2011\n"
     ]
    },
    {
     "data": {
      "image/png": "[encoded data removed]",
      "text/plain": [
       "<Figure size 432x288 with 1 Axes>"
      ]
     },
     "metadata": {
      "needs_background": "light"
     },
     "output_type": "display_data"
    }
   ],
   "source": [
    "getEachArticle()"
   ]
  },
  {
   "cell_type": "code",
   "execution_count": null,
   "metadata": {},
   "outputs": [],
   "source": []
  }
 ],
 "metadata": {
  "kernelspec": {
   "display_name": "Python 3",
   "language": "python",
   "name": "python3"
  },
  "language_info": {
   "codemirror_mode": {
    "name": "ipython",
    "version": 3
   },
   "file_extension": ".py",
   "mimetype": "text/x-python",
   "name": "python",
   "nbconvert_exporter": "python",
   "pygments_lexer": "ipython3",
   "version": "3.7.1"
  }
 },
 "nbformat": 4,
 "nbformat_minor": 2
}
